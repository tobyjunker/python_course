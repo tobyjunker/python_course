{
 "cells": [
  {
   "cell_type": "code",
   "execution_count": 1,
   "metadata": {},
   "outputs": [
    {
     "name": "stdout",
     "output_type": "stream",
     "text": [
      "# conda environments:\n",
      "#\n",
      "base                     /Users/STJU/opt/anaconda3\n",
      "IBM_python_course     *  /Users/STJU/opt/anaconda3/envs/IBM_python_course\n",
      "\n"
     ]
    }
   ],
   "source": [
    "# check environments\n",
    "!conda info --envs"
   ]
  },
  {
   "cell_type": "markdown",
   "metadata": {},
   "source": [
    "Switch environment (this only works in an actual terminal)  \n",
    " **conda activate IBM_python_course**"
   ]
  },
  {
   "cell_type": "code",
   "execution_count": 4,
   "metadata": {},
   "outputs": [
    {
     "name": "stdout",
     "output_type": "stream",
     "text": [
      "\n",
      "     active environment : IBM_python_course\n",
      "    active env location : /Users/STJU/opt/anaconda3/envs/IBM_python_course\n",
      "            shell level : 2\n",
      "       user config file : /Users/STJU/.condarc\n",
      " populated config files : /Users/STJU/.condarc\n",
      "          conda version : 4.9.2\n",
      "    conda-build version : 3.20.5\n",
      "         python version : 3.8.5.final.0\n",
      "       virtual packages : __osx=10.16=0\n",
      "                          __unix=0=0\n",
      "                          __archspec=1=x86_64\n",
      "       base environment : /Users/STJU/opt/anaconda3  (writable)\n",
      "           channel URLs : https://repo.anaconda.com/pkgs/main/osx-64\n",
      "                          https://repo.anaconda.com/pkgs/main/noarch\n",
      "                          https://repo.anaconda.com/pkgs/r/osx-64\n",
      "                          https://repo.anaconda.com/pkgs/r/noarch\n",
      "          package cache : /Users/STJU/opt/anaconda3/pkgs\n",
      "                          /Users/STJU/.conda/pkgs\n",
      "       envs directories : /Users/STJU/opt/anaconda3/envs\n",
      "                          /Users/STJU/.conda/envs\n",
      "               platform : osx-64\n",
      "             user-agent : conda/4.9.2 requests/2.24.0 CPython/3.8.5 Darwin/20.3.0 OSX/10.16\n",
      "                UID:GID : 502:20\n",
      "             netrc file : None\n",
      "           offline mode : False\n",
      "\n"
     ]
    }
   ],
   "source": [
    "!conda info"
   ]
  },
  {
   "cell_type": "code",
   "execution_count": null,
   "metadata": {},
   "outputs": [],
   "source": []
  }
 ],
 "metadata": {
  "kernelspec": {
   "display_name": "Python 3",
   "language": "python",
   "name": "python3"
  },
  "language_info": {
   "codemirror_mode": {
    "name": "ipython",
    "version": 3
   },
   "file_extension": ".py",
   "mimetype": "text/x-python",
   "name": "python",
   "nbconvert_exporter": "python",
   "pygments_lexer": "ipython3",
   "version": "3.8.5"
  }
 },
 "nbformat": 4,
 "nbformat_minor": 4
}
